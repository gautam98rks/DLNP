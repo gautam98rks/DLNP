{
 "cells": [
  {
   "cell_type": "code",
   "execution_count": 9,
   "id": "a67917ea",
   "metadata": {},
   "outputs": [
    {
     "name": "stdout",
     "output_type": "stream",
     "text": [
      "Requirement already satisfied: tensorflow in c:\\users\\siddh\\anaconda3\\lib\\site-packages (2.9.1)\n",
      "Requirement already satisfied: tensorflow-estimator<2.10.0,>=2.9.0rc0 in c:\\users\\siddh\\anaconda3\\lib\\site-packages (from tensorflow) (2.9.0)\n",
      "Requirement already satisfied: keras<2.10.0,>=2.9.0rc0 in c:\\users\\siddh\\anaconda3\\lib\\site-packages (from tensorflow) (2.9.0)\n",
      "Requirement already satisfied: absl-py>=1.0.0 in c:\\users\\siddh\\anaconda3\\lib\\site-packages (from tensorflow) (1.1.0)\n",
      "Requirement already satisfied: google-pasta>=0.1.1 in c:\\users\\siddh\\anaconda3\\lib\\site-packages (from tensorflow) (0.2.0)\n",
      "Requirement already satisfied: flatbuffers<2,>=1.12 in c:\\users\\siddh\\anaconda3\\lib\\site-packages (from tensorflow) (1.12)\n",
      "Requirement already satisfied: h5py>=2.9.0 in c:\\users\\siddh\\anaconda3\\lib\\site-packages (from tensorflow) (3.2.1)\n",
      "Requirement already satisfied: keras-preprocessing>=1.1.1 in c:\\users\\siddh\\anaconda3\\lib\\site-packages (from tensorflow) (1.1.2)\n",
      "Requirement already satisfied: gast<=0.4.0,>=0.2.1 in c:\\users\\siddh\\anaconda3\\lib\\site-packages (from tensorflow) (0.4.0)\n",
      "Requirement already satisfied: six>=1.12.0 in c:\\users\\siddh\\anaconda3\\lib\\site-packages (from tensorflow) (1.16.0)\n",
      "Requirement already satisfied: numpy>=1.20 in c:\\users\\siddh\\anaconda3\\lib\\site-packages (from tensorflow) (1.20.3)\n",
      "Requirement already satisfied: tensorflow-io-gcs-filesystem>=0.23.1 in c:\\users\\siddh\\anaconda3\\lib\\site-packages (from tensorflow) (0.26.0)\n",
      "Requirement already satisfied: packaging in c:\\users\\siddh\\anaconda3\\lib\\site-packages (from tensorflow) (21.0)\n",
      "Requirement already satisfied: astunparse>=1.6.0 in c:\\users\\siddh\\anaconda3\\lib\\site-packages (from tensorflow) (1.6.3)\n",
      "Requirement already satisfied: setuptools in c:\\users\\siddh\\anaconda3\\lib\\site-packages (from tensorflow) (58.0.4)\n",
      "Requirement already satisfied: typing-extensions>=3.6.6 in c:\\users\\siddh\\anaconda3\\lib\\site-packages (from tensorflow) (3.10.0.2)\n",
      "Requirement already satisfied: opt-einsum>=2.3.2 in c:\\users\\siddh\\anaconda3\\lib\\site-packages (from tensorflow) (3.3.0)\n",
      "Requirement already satisfied: grpcio<2.0,>=1.24.3 in c:\\users\\siddh\\anaconda3\\lib\\site-packages (from tensorflow) (1.47.0)\n",
      "Requirement already satisfied: tensorboard<2.10,>=2.9 in c:\\users\\siddh\\anaconda3\\lib\\site-packages (from tensorflow) (2.9.1)\n",
      "Requirement already satisfied: termcolor>=1.1.0 in c:\\users\\siddh\\anaconda3\\lib\\site-packages (from tensorflow) (1.1.0)\n",
      "Requirement already satisfied: libclang>=13.0.0 in c:\\users\\siddh\\anaconda3\\lib\\site-packages (from tensorflow) (14.0.1)\n",
      "Requirement already satisfied: wrapt>=1.11.0 in c:\\users\\siddh\\anaconda3\\lib\\site-packages (from tensorflow) (1.12.1)\n",
      "Requirement already satisfied: protobuf<3.20,>=3.9.2 in c:\\users\\siddh\\anaconda3\\lib\\site-packages (from tensorflow) (3.19.4)\n",
      "Requirement already satisfied: wheel<1.0,>=0.23.0 in c:\\users\\siddh\\anaconda3\\lib\\site-packages (from astunparse>=1.6.0->tensorflow) (0.37.0)\n",
      "Requirement already satisfied: tensorboard-plugin-wit>=1.6.0 in c:\\users\\siddh\\anaconda3\\lib\\site-packages (from tensorboard<2.10,>=2.9->tensorflow) (1.8.1)\n",
      "Requirement already satisfied: google-auth<3,>=1.6.3 in c:\\users\\siddh\\anaconda3\\lib\\site-packages (from tensorboard<2.10,>=2.9->tensorflow) (2.9.0)\n",
      "Requirement already satisfied: werkzeug>=1.0.1 in c:\\users\\siddh\\anaconda3\\lib\\site-packages (from tensorboard<2.10,>=2.9->tensorflow) (2.0.2)\n",
      "Requirement already satisfied: markdown>=2.6.8 in c:\\users\\siddh\\anaconda3\\lib\\site-packages (from tensorboard<2.10,>=2.9->tensorflow) (3.3.7)\n",
      "Requirement already satisfied: requests<3,>=2.21.0 in c:\\users\\siddh\\anaconda3\\lib\\site-packages (from tensorboard<2.10,>=2.9->tensorflow) (2.26.0)\n",
      "Requirement already satisfied: tensorboard-data-server<0.7.0,>=0.6.0 in c:\\users\\siddh\\anaconda3\\lib\\site-packages (from tensorboard<2.10,>=2.9->tensorflow) (0.6.1)\n",
      "Requirement already satisfied: google-auth-oauthlib<0.5,>=0.4.1 in c:\\users\\siddh\\anaconda3\\lib\\site-packages (from tensorboard<2.10,>=2.9->tensorflow) (0.4.6)\n",
      "Requirement already satisfied: cachetools<6.0,>=2.0.0 in c:\\users\\siddh\\anaconda3\\lib\\site-packages (from google-auth<3,>=1.6.3->tensorboard<2.10,>=2.9->tensorflow) (5.2.0)\n",
      "Requirement already satisfied: pyasn1-modules>=0.2.1 in c:\\users\\siddh\\anaconda3\\lib\\site-packages (from google-auth<3,>=1.6.3->tensorboard<2.10,>=2.9->tensorflow) (0.2.8)\n",
      "Requirement already satisfied: rsa<5,>=3.1.4 in c:\\users\\siddh\\anaconda3\\lib\\site-packages (from google-auth<3,>=1.6.3->tensorboard<2.10,>=2.9->tensorflow) (4.8)\n",
      "Requirement already satisfied: requests-oauthlib>=0.7.0 in c:\\users\\siddh\\anaconda3\\lib\\site-packages (from google-auth-oauthlib<0.5,>=0.4.1->tensorboard<2.10,>=2.9->tensorflow) (1.3.1)\n",
      "Requirement already satisfied: importlib-metadata>=4.4 in c:\\users\\siddh\\anaconda3\\lib\\site-packages (from markdown>=2.6.8->tensorboard<2.10,>=2.9->tensorflow) (4.8.1)\n",
      "Requirement already satisfied: zipp>=0.5 in c:\\users\\siddh\\anaconda3\\lib\\site-packages (from importlib-metadata>=4.4->markdown>=2.6.8->tensorboard<2.10,>=2.9->tensorflow) (3.6.0)\n",
      "Requirement already satisfied: pyasn1<0.5.0,>=0.4.6 in c:\\users\\siddh\\anaconda3\\lib\\site-packages (from pyasn1-modules>=0.2.1->google-auth<3,>=1.6.3->tensorboard<2.10,>=2.9->tensorflow) (0.4.8)\n",
      "Requirement already satisfied: certifi>=2017.4.17 in c:\\users\\siddh\\anaconda3\\lib\\site-packages (from requests<3,>=2.21.0->tensorboard<2.10,>=2.9->tensorflow) (2021.10.8)\n",
      "Requirement already satisfied: charset-normalizer~=2.0.0 in c:\\users\\siddh\\anaconda3\\lib\\site-packages (from requests<3,>=2.21.0->tensorboard<2.10,>=2.9->tensorflow) (2.0.4)\n",
      "Requirement already satisfied: urllib3<1.27,>=1.21.1 in c:\\users\\siddh\\anaconda3\\lib\\site-packages (from requests<3,>=2.21.0->tensorboard<2.10,>=2.9->tensorflow) (1.26.7)\n",
      "Requirement already satisfied: idna<4,>=2.5 in c:\\users\\siddh\\anaconda3\\lib\\site-packages (from requests<3,>=2.21.0->tensorboard<2.10,>=2.9->tensorflow) (3.2)\n",
      "Requirement already satisfied: oauthlib>=3.0.0 in c:\\users\\siddh\\anaconda3\\lib\\site-packages (from requests-oauthlib>=0.7.0->google-auth-oauthlib<0.5,>=0.4.1->tensorboard<2.10,>=2.9->tensorflow) (3.2.0)\n",
      "Requirement already satisfied: pyparsing>=2.0.2 in c:\\users\\siddh\\anaconda3\\lib\\site-packages (from packaging->tensorflow) (3.0.4)\n",
      "Note: you may need to restart the kernel to use updated packages.\n"
     ]
    }
   ],
   "source": [
    "pip install tensorflow\n"
   ]
  },
  {
   "cell_type": "code",
   "execution_count": 21,
   "id": "b271df1c",
   "metadata": {},
   "outputs": [],
   "source": [
    "import tensorflow as tf\n",
    "from keras.preprocessing.image import ImageDataGenerator"
   ]
  },
  {
   "cell_type": "code",
   "execution_count": 22,
   "id": "e42936b0",
   "metadata": {},
   "outputs": [
    {
     "data": {
      "text/plain": [
       "'2.9.1'"
      ]
     },
     "execution_count": 22,
     "metadata": {},
     "output_type": "execute_result"
    }
   ],
   "source": [
    "tf.__version__\n"
   ]
  },
  {
   "cell_type": "code",
   "execution_count": 5,
   "id": "2005102e",
   "metadata": {},
   "outputs": [
    {
     "name": "stdout",
     "output_type": "stream",
     "text": [
      "Found 8000 images belonging to 2 classes.\n"
     ]
    }
   ],
   "source": [
    "train_datagen = ImageDataGenerator(rescale = 1./255,\n",
    "                                   shear_range = 0.2,\n",
    "                                   zoom_range = 0.2,\n",
    "                                   horizontal_flip = True)\n",
    "training_set = train_datagen.flow_from_directory('C:/Users/siddh/Desktop/TERM 4/DLNLP/CNN Dataset/training_set',\n",
    "                                                 target_size = (64, 64),\n",
    "                                                 batch_size = 32,\n",
    "                                                 class_mode = 'binary')"
   ]
  },
  {
   "cell_type": "code",
   "execution_count": 6,
   "id": "f4aa4e3f",
   "metadata": {},
   "outputs": [
    {
     "name": "stdout",
     "output_type": "stream",
     "text": [
      "Found 2000 images belonging to 2 classes.\n"
     ]
    }
   ],
   "source": [
    "test_datagen = ImageDataGenerator(rescale = 1./255)\n",
    "test_set = test_datagen.flow_from_directory('C:/Users/siddh/Desktop/TERM 4/DLNLP/CNN Dataset/test_set',\n",
    "                                            target_size = (64, 64),\n",
    "                                            batch_size = 32,\n",
    "                                            class_mode = 'binary')"
   ]
  },
  {
   "cell_type": "code",
   "execution_count": 7,
   "id": "3bece2e3",
   "metadata": {},
   "outputs": [],
   "source": [
    "cnn = tf.keras.models.Sequential() #Initializing the CNN\n"
   ]
  },
  {
   "cell_type": "code",
   "execution_count": 8,
   "id": "dd8bc818",
   "metadata": {},
   "outputs": [],
   "source": [
    "cnn.add(tf.keras.layers.Conv2D(filters=32, kernel_size=3, activation='relu', input_shape=[64, 64, 3])) #Convolution\n"
   ]
  },
  {
   "cell_type": "code",
   "execution_count": 9,
   "id": "03d3617d",
   "metadata": {},
   "outputs": [],
   "source": [
    "cnn.add(tf.keras.layers.MaxPool2D(pool_size=2, strides=2)) #Pooling\n"
   ]
  },
  {
   "cell_type": "code",
   "execution_count": 10,
   "id": "3c486e4e",
   "metadata": {},
   "outputs": [],
   "source": [
    "cnn.add(tf.keras.layers.Conv2D(filters=32, kernel_size=3, activation='relu'))\n",
    "cnn.add(tf.keras.layers.MaxPool2D(pool_size=2, strides=2))                            #2nd Layer of Convolution"
   ]
  },
  {
   "cell_type": "code",
   "execution_count": 11,
   "id": "ba1fafc6",
   "metadata": {},
   "outputs": [],
   "source": [
    "cnn.add(tf.keras.layers.Flatten()) #Flattening\n"
   ]
  },
  {
   "cell_type": "code",
   "execution_count": 12,
   "id": "bb946638",
   "metadata": {},
   "outputs": [],
   "source": [
    "cnn.add(tf.keras.layers.Dense(units=128, activation='relu')) #Full Connection\n"
   ]
  },
  {
   "cell_type": "code",
   "execution_count": 13,
   "id": "f9df1e12",
   "metadata": {},
   "outputs": [],
   "source": [
    "cnn.add(tf.keras.layers.Dense(units=1, activation='sigmoid')) #Output Layer\n"
   ]
  },
  {
   "cell_type": "code",
   "execution_count": 15,
   "id": "bd6bd6f7",
   "metadata": {},
   "outputs": [],
   "source": [
    "cnn.compile(optimizer = 'adam', loss = 'binary_crossentropy', metrics = ['accuracy']) #Compiling CNN\n"
   ]
  },
  {
   "cell_type": "code",
   "execution_count": 16,
   "id": "110450a2",
   "metadata": {},
   "outputs": [
    {
     "name": "stdout",
     "output_type": "stream",
     "text": [
      "Epoch 1/25\n",
      "250/250 [==============================] - 118s 467ms/step - loss: 0.6635 - accuracy: 0.5910 - val_loss: 0.6197 - val_accuracy: 0.6460\n",
      "Epoch 2/25\n",
      "250/250 [==============================] - 39s 155ms/step - loss: 0.5834 - accuracy: 0.6909 - val_loss: 0.5572 - val_accuracy: 0.7270\n",
      "Epoch 3/25\n",
      "250/250 [==============================] - 39s 155ms/step - loss: 0.5472 - accuracy: 0.7275 - val_loss: 0.5035 - val_accuracy: 0.7575\n",
      "Epoch 4/25\n",
      "250/250 [==============================] - 38s 153ms/step - loss: 0.5154 - accuracy: 0.7431 - val_loss: 0.4896 - val_accuracy: 0.7765\n",
      "Epoch 5/25\n",
      "250/250 [==============================] - 37s 147ms/step - loss: 0.4992 - accuracy: 0.7599 - val_loss: 0.4936 - val_accuracy: 0.7655\n",
      "Epoch 6/25\n",
      "250/250 [==============================] - 38s 150ms/step - loss: 0.4903 - accuracy: 0.7615 - val_loss: 0.4669 - val_accuracy: 0.7780\n",
      "Epoch 7/25\n",
      "250/250 [==============================] - 39s 157ms/step - loss: 0.4665 - accuracy: 0.7775 - val_loss: 0.4635 - val_accuracy: 0.7890\n",
      "Epoch 8/25\n",
      "250/250 [==============================] - 37s 150ms/step - loss: 0.4424 - accuracy: 0.7954 - val_loss: 0.4684 - val_accuracy: 0.7970\n",
      "Epoch 9/25\n",
      "250/250 [==============================] - 37s 149ms/step - loss: 0.4458 - accuracy: 0.7889 - val_loss: 0.4370 - val_accuracy: 0.8055\n",
      "Epoch 10/25\n",
      "250/250 [==============================] - 37s 150ms/step - loss: 0.4300 - accuracy: 0.8034 - val_loss: 0.4360 - val_accuracy: 0.8040\n",
      "Epoch 11/25\n",
      "250/250 [==============================] - 39s 156ms/step - loss: 0.4095 - accuracy: 0.8142 - val_loss: 0.4835 - val_accuracy: 0.7935\n",
      "Epoch 12/25\n",
      "250/250 [==============================] - 38s 153ms/step - loss: 0.3983 - accuracy: 0.8148 - val_loss: 0.4556 - val_accuracy: 0.7915\n",
      "Epoch 13/25\n",
      "250/250 [==============================] - 41s 163ms/step - loss: 0.3971 - accuracy: 0.8134 - val_loss: 0.4561 - val_accuracy: 0.7965\n",
      "Epoch 14/25\n",
      "250/250 [==============================] - 39s 157ms/step - loss: 0.3887 - accuracy: 0.8239 - val_loss: 0.4505 - val_accuracy: 0.8010\n",
      "Epoch 15/25\n",
      "250/250 [==============================] - 39s 156ms/step - loss: 0.3776 - accuracy: 0.8296 - val_loss: 0.4523 - val_accuracy: 0.7995\n",
      "Epoch 16/25\n",
      "250/250 [==============================] - 40s 161ms/step - loss: 0.3730 - accuracy: 0.8316 - val_loss: 0.4318 - val_accuracy: 0.8140\n",
      "Epoch 17/25\n",
      "250/250 [==============================] - 38s 152ms/step - loss: 0.3517 - accuracy: 0.8432 - val_loss: 0.4549 - val_accuracy: 0.8040\n",
      "Epoch 18/25\n",
      "250/250 [==============================] - 37s 148ms/step - loss: 0.3505 - accuracy: 0.8439 - val_loss: 0.4478 - val_accuracy: 0.7935\n",
      "Epoch 19/25\n",
      "250/250 [==============================] - 37s 150ms/step - loss: 0.3314 - accuracy: 0.8514 - val_loss: 0.4309 - val_accuracy: 0.8100\n",
      "Epoch 20/25\n",
      "250/250 [==============================] - 37s 150ms/step - loss: 0.3340 - accuracy: 0.8508 - val_loss: 0.4580 - val_accuracy: 0.8070\n",
      "Epoch 21/25\n",
      "250/250 [==============================] - 37s 147ms/step - loss: 0.3218 - accuracy: 0.8583 - val_loss: 0.4323 - val_accuracy: 0.8055\n",
      "Epoch 22/25\n",
      "250/250 [==============================] - 38s 153ms/step - loss: 0.3115 - accuracy: 0.8629 - val_loss: 0.5045 - val_accuracy: 0.7910\n",
      "Epoch 23/25\n",
      "250/250 [==============================] - 39s 158ms/step - loss: 0.3075 - accuracy: 0.8700 - val_loss: 0.5010 - val_accuracy: 0.8170\n",
      "Epoch 24/25\n",
      "250/250 [==============================] - 38s 151ms/step - loss: 0.2974 - accuracy: 0.8691 - val_loss: 0.4490 - val_accuracy: 0.8025\n",
      "Epoch 25/25\n",
      "250/250 [==============================] - 38s 151ms/step - loss: 0.2898 - accuracy: 0.8742 - val_loss: 0.4480 - val_accuracy: 0.8150\n"
     ]
    },
    {
     "data": {
      "text/plain": [
       "<keras.callbacks.History at 0x200a02b2d30>"
      ]
     },
     "execution_count": 16,
     "metadata": {},
     "output_type": "execute_result"
    }
   ],
   "source": [
    "cnn.fit(x = training_set, validation_data = test_set, epochs = 25)\n"
   ]
  },
  {
   "cell_type": "code",
   "execution_count": 34,
   "id": "e12af169",
   "metadata": {},
   "outputs": [
    {
     "name": "stdout",
     "output_type": "stream",
     "text": [
      "1/1 [==============================] - 0s 30ms/step\n"
     ]
    }
   ],
   "source": [
    "import numpy as np\n",
    "from keras.preprocessing import image\n",
    "test_image = tf.keras.utils.load_img('C:/Users/siddh/Desktop/TERM 4/DLNLP/CNN Dataset/single_prediction/Cat_Nov.jpg', target_size = (64, 64))\n",
    "test_image = tf.keras.utils.img_to_array(test_image)\n",
    "test_image = np.expand_dims(test_image, axis = 0)\n",
    "result = cnn.predict(test_image)\n",
    "training_set.class_indices\n",
    "if result[0][0] == 1:\n",
    "  prediction = 'dog'\n",
    "else:\n",
    "  prediction = 'cat'"
   ]
  },
  {
   "cell_type": "code",
   "execution_count": 35,
   "id": "4db5bff4",
   "metadata": {},
   "outputs": [
    {
     "name": "stdout",
     "output_type": "stream",
     "text": [
      "cat\n"
     ]
    }
   ],
   "source": [
    "print(prediction)\n"
   ]
  },
  {
   "cell_type": "code",
   "execution_count": null,
   "id": "2f86dd99",
   "metadata": {},
   "outputs": [],
   "source": []
  }
 ],
 "metadata": {
  "kernelspec": {
   "display_name": "Python 3 (ipykernel)",
   "language": "python",
   "name": "python3"
  },
  "language_info": {
   "codemirror_mode": {
    "name": "ipython",
    "version": 3
   },
   "file_extension": ".py",
   "mimetype": "text/x-python",
   "name": "python",
   "nbconvert_exporter": "python",
   "pygments_lexer": "ipython3",
   "version": "3.9.7"
  }
 },
 "nbformat": 4,
 "nbformat_minor": 5
}
